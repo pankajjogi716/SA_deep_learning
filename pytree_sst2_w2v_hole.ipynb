{
 "cells": [
  {
   "cell_type": "code",
   "execution_count": 46,
   "metadata": {},
   "outputs": [],
   "source": [
    "import pandas as pd\n",
    "import tensorflow as tf\n",
    "import numpy as np\n",
    "import re \n",
    "import nltk\n",
    "from nltk.corpus import stopwords\n",
    "import itertools\n",
    "from appostophes import appos \n",
    "from autocorrect import Speller\n",
    "\n",
    "\n",
    "from numpy import array\n",
    "from keras.preprocessing.text import one_hot\n",
    "from keras.preprocessing.sequence import pad_sequences\n",
    "from keras.models import Sequential\n",
    "from keras.layers.core import Activation, Dropout, Dense\n",
    "from keras.layers import Flatten, Conv1D, LSTM, Bidirectional\n",
    "from keras.layers import GlobalMaxPooling1D, MaxPooling1D\n",
    "from keras.layers.embeddings import Embedding\n",
    "from sklearn.model_selection import train_test_split\n",
    "from keras.preprocessing.text import Tokenizer\n",
    "from keras import optimizers\n",
    "\n",
    "from sklearn.preprocessing import LabelEncoder"
   ]
  },
  {
   "cell_type": "code",
   "execution_count": 12,
   "metadata": {},
   "outputs": [
    {
     "name": "stdout",
     "output_type": "stream",
     "text": [
      "Number of sample in training set : 6920\n"
     ]
    },
    {
     "data": {
      "text/plain": [
       "1    3610\n",
       "0    3310\n",
       "Name: truth, dtype: int64"
      ]
     },
     "execution_count": 12,
     "metadata": {},
     "output_type": "execute_result"
    }
   ],
   "source": [
    "import pandas as pd\n",
    "# Read TRAINING data\n",
    "train = pd.read_csv('/home/pankaj/Desktop/PROJECT/Datasets/pytree_sst/train2.txt', sep='\\t', header=None, names=['truth', 'text'])\n",
    "#train['truth'] = train['truth'].str.replace('__label__', '')\n",
    "train['truth'] = train['truth'].astype(int).astype('category')\n",
    "print(\"Number of sample in training set :\", len(train))\n",
    "train['truth'].value_counts()"
   ]
  },
  {
   "cell_type": "code",
   "execution_count": 13,
   "metadata": {},
   "outputs": [
    {
     "name": "stdout",
     "output_type": "stream",
     "text": [
      "Number of sample in testing set : 1821\n"
     ]
    },
    {
     "data": {
      "text/plain": [
       "0    912\n",
       "1    909\n",
       "Name: truth, dtype: int64"
      ]
     },
     "execution_count": 13,
     "metadata": {},
     "output_type": "execute_result"
    }
   ],
   "source": [
    "import pandas as pd\n",
    "# Read TRAINING data\n",
    "test = pd.read_csv('/home/pankaj/Desktop/PROJECT/Datasets/pytree_sst/test2.txt', sep='\\t', header=None, names=['truth', 'text'])\n",
    "#test['truth'] = test['truth'].str.replace('__label__', '')\n",
    "test['truth'] = test['truth'].astype(int).astype('category')\n",
    "\n",
    "print(\"Number of sample in testing set :\", len(test))\n",
    "test['truth'].value_counts()"
   ]
  },
  {
   "cell_type": "code",
   "execution_count": 14,
   "metadata": {},
   "outputs": [
    {
     "name": "stdout",
     "output_type": "stream",
     "text": [
      "Number of sample in dev set : 872\n"
     ]
    },
    {
     "data": {
      "text/plain": [
       "1    444\n",
       "0    428\n",
       "Name: truth, dtype: int64"
      ]
     },
     "execution_count": 14,
     "metadata": {},
     "output_type": "execute_result"
    }
   ],
   "source": [
    "import pandas as pd\n",
    "# Read TRAINING data\n",
    "dev = pd.read_csv('/home/pankaj/Desktop/PROJECT/Datasets/pytree_sst/dev2.txt', sep='\\t', header=None, names=['truth', 'text'])\n",
    "#dev['truth'] = dev['truth'].str.replace('__label__', '')\n",
    "dev['truth'] = dev['truth'].astype(int).astype('category')\n",
    "\n",
    "print(\"Number of sample in dev set :\", len(dev))\n",
    "dev['truth'].value_counts()"
   ]
  },
  {
   "cell_type": "code",
   "execution_count": 15,
   "metadata": {},
   "outputs": [],
   "source": [
    "# DATA PRE-PROCESSING\n",
    "def preprocess_text(sen):\n",
    "    # 1. Removing HTML tags\n",
    "    sentence = remove_tags(sen)\n",
    "   # print(sentence)\n",
    "    # 2. Removing multiple spaces\n",
    "    sentence = re.sub(r'\\s+', ' ', sentence)\n",
    "    #print(sentence) \n",
    "    # 3. Convert to lower case\n",
    "    sentence= sentence.lower()\n",
    "   # print(sentence)\n",
    "    # 4. Apostrophes \n",
    "    sentence= remove_apostrophes(sentence)\n",
    "    #print(sentence)\n",
    "    # 5. Remove special characters\n",
    "    sentence = remove_special_characters(sentence)\n",
    "   # print(sentence)\n",
    "    # 6. Single character removal\n",
    "    sentence = re.sub(r\"\\s+[a-zA-Z]\\s+\", ' ', sentence)\n",
    "    #print(sentence)\n",
    "    # 7. Standardise words\n",
    "    #sentence= standardise1(sentence)\n",
    "    #print(sentence)\n",
    "    #8. spell check\n",
    "   # sentence= spell_check(sentence)\n",
    "    #print(sentence)\n",
    "\n",
    "    return sentence"
   ]
  },
  {
   "cell_type": "code",
   "execution_count": 16,
   "metadata": {},
   "outputs": [],
   "source": [
    "# 1. remove HTML tags \n",
    "TAG_RE = re.compile(r'<[^>]+>')\n",
    "def remove_tags(text):\n",
    "    return TAG_RE.sub('', text)"
   ]
  },
  {
   "cell_type": "code",
   "execution_count": 17,
   "metadata": {},
   "outputs": [],
   "source": [
    "# 4. Appostophes\n",
    "def remove_apostrophes(text):\n",
    "    #print(appos)\n",
    "    words=text.split()  \n",
    "    #print(words)\n",
    "    reformed = [appos[word] if word in appos else word for word in words]\n",
    "    reformed = \" \".join(reformed)\n",
    "    return reformed\n"
   ]
  },
  {
   "cell_type": "code",
   "execution_count": 18,
   "metadata": {},
   "outputs": [],
   "source": [
    " # 5. Remove special characters and digits\n",
    "def remove_special_characters(text, remove_digits=True):\n",
    "    pattern=r'[^a-zA-z\\s]'\n",
    "    text=re.sub(pattern,' ',text)\n",
    "    return text"
   ]
  },
  {
   "cell_type": "code",
   "execution_count": 19,
   "metadata": {},
   "outputs": [],
   "source": [
    "# 7.1 Standardize words function-1\n",
    "def standardise1(text):\n",
    "    sent = ''.join(''.join(s)[:2] for _, s in itertools.groupby(text))\n",
    "    return sent"
   ]
  },
  {
   "cell_type": "code",
   "execution_count": 20,
   "metadata": {},
   "outputs": [],
   "source": [
    "# 7.2 Standardize words function-2\n",
    "def standardise2(text): \n",
    "    words=text.split()\n",
    "    output_str= []\n",
    "    for w in words:\n",
    "        sc_removed = re.sub(\"[^a-zA-Z]\", '', str(w))\n",
    "        if len(sc_removed) > 1:\n",
    "                output_str.append(sc_removed)\n",
    "        joined = ' '.join(output_str)\n",
    "    spell_corrected = re.sub(r'(.)\\1+', r'\\1\\1', joined)\n",
    "    return spell_corrected"
   ]
  },
  {
   "cell_type": "code",
   "execution_count": 21,
   "metadata": {},
   "outputs": [],
   "source": [
    "# spell check\n",
    "spell = Speller(lang='en')\n",
    "def spell_check(text):\n",
    "    words=text.split()\n",
    "    corrected=[]\n",
    "    for w in words:\n",
    "        corrected.append(spell(w))\n",
    "    corrected=\" \".join(str(x) for x in corrected)\n",
    "    return corrected    "
   ]
  },
  {
   "cell_type": "code",
   "execution_count": 22,
   "metadata": {},
   "outputs": [
    {
     "data": {
      "text/plain": [
       "'at first it was very odd and pretty funny but as the movie progressed did not find the jokes or oddness funny anymore its low budget film  thats never'"
      ]
     },
     "execution_count": 22,
     "metadata": {},
     "output_type": "execute_result"
    }
   ],
   "source": [
    "#spell = Speller(lang='en')\n",
    "#spell(\"SOOO\")\n",
    "#preprocess_text(\"Helloooooo moble   007 can't  sooo  A #hapPy!!!\")\n",
    "preprocess_text(\"At first it was very odd and pretty funny but as the movie progressed I didn't find the jokes or oddness funny anymore.Its a low-budget film (thats never \")\n",
    "#remove_special_characters(\"Hello 007 I'm happy!!!\")"
   ]
  },
  {
   "cell_type": "code",
   "execution_count": 23,
   "metadata": {},
   "outputs": [
    {
     "name": "stdout",
     "output_type": "stream",
     "text": [
      "pre-processing starts\n",
      "pre-processing over\n"
     ]
    }
   ],
   "source": [
    "# pre-process every statement and store it \n",
    "print(\"pre-processing starts\")\n",
    "train_reviews = []\n",
    "p=0\n",
    "sentences = list(train['text'])\n",
    "for sen in sentences:\n",
    "    train_reviews.append(preprocess_text(sen))\n",
    "    p+=1\n",
    "\n",
    "print(\"pre-processing over\")    "
   ]
  },
  {
   "cell_type": "code",
   "execution_count": 24,
   "metadata": {},
   "outputs": [
    {
     "name": "stdout",
     "output_type": "stream",
     "text": [
      "pre-processing starts\n",
      "pre-processing over\n"
     ]
    }
   ],
   "source": [
    "# pre-process every statement and store it \n",
    "print(\"pre-processing starts\")\n",
    "test_reviews = []\n",
    "sentences = list(test['text'])\n",
    "for sen in sentences:\n",
    "    test_reviews.append(preprocess_text(sen))\n",
    "\n",
    "print(\"pre-processing over\")    "
   ]
  },
  {
   "cell_type": "code",
   "execution_count": 25,
   "metadata": {},
   "outputs": [
    {
     "name": "stdout",
     "output_type": "stream",
     "text": [
      "pre-processing starts\n",
      "pre-processing over\n"
     ]
    }
   ],
   "source": [
    "# pre-process every statement and store it \n",
    "print(\"pre-processing starts\")\n",
    "dev_reviews = []\n",
    "sentences = list(dev['text'])\n",
    "for sen in sentences:\n",
    "    dev_reviews.append(preprocess_text(sen))\n",
    "\n",
    "print(\"pre-processing over\")    "
   ]
  },
  {
   "cell_type": "code",
   "execution_count": 26,
   "metadata": {},
   "outputs": [],
   "source": [
    "train_label= train['truth']\n",
    "test_label=test['truth']\n",
    "dev_label=dev['truth']"
   ]
  },
  {
   "cell_type": "code",
   "execution_count": 27,
   "metadata": {},
   "outputs": [
    {
     "data": {
      "text/plain": [
       "6920"
      ]
     },
     "execution_count": 27,
     "metadata": {},
     "output_type": "execute_result"
    }
   ],
   "source": [
    "len(train_reviews)"
   ]
  },
  {
   "cell_type": "code",
   "execution_count": 28,
   "metadata": {},
   "outputs": [],
   "source": [
    "tokenizer = Tokenizer(num_words=5000)\n",
    "tokenizer.fit_on_texts(train_reviews)\n",
    "\n",
    "train_reviews = tokenizer.texts_to_sequences(train_reviews)\n",
    "test_reviews = tokenizer.texts_to_sequences(test_reviews)\n",
    "dev_reviews =tokenizer.texts_to_sequences(dev_reviews)"
   ]
  },
  {
   "cell_type": "code",
   "execution_count": 29,
   "metadata": {},
   "outputs": [
    {
     "name": "stdout",
     "output_type": "stream",
     "text": [
      "Number of training sample : 6920\n",
      "Number of unique words : 13675\n",
      "[254, 3, 1, 334, 3, 3679, 2461, 5, 7, 6, 2953, 1, 427, 11, 1447, 2, 4896]\n"
     ]
    }
   ],
   "source": [
    "# Adding 1 because of reserved 0 index\n",
    "vocab_size = len(tokenizer.word_index) + 1\n",
    "#print(type(X_train))\n",
    "print(\"Number of training sample :\",len(train_reviews))\n",
    "print(\"Number of unique words :\",vocab_size)\n",
    "#print(X_train[0])\n",
    "print((train_reviews[6]))"
   ]
  },
  {
   "cell_type": "code",
   "execution_count": 30,
   "metadata": {},
   "outputs": [
    {
     "name": "stdout",
     "output_type": "stream",
     "text": [
      "<class 'numpy.ndarray'>\n",
      "(6920, 50)\n"
     ]
    }
   ],
   "source": [
    "maxlen = 50\n",
    "print\n",
    "train_reviews = pad_sequences(train_reviews, padding='post', maxlen=maxlen)\n",
    "test_reviews  = pad_sequences(test_reviews, padding='post', maxlen=maxlen)\n",
    "dev_reviews =pad_sequences(dev_reviews, padding='post', maxlen=maxlen)\n",
    "print(type(train_reviews))\n",
    "print(train_reviews.shape)"
   ]
  },
  {
   "cell_type": "code",
   "execution_count": 31,
   "metadata": {},
   "outputs": [
    {
     "name": "stdout",
     "output_type": "stream",
     "text": [
      "<class 'numpy.ndarray'>\n",
      "6920\n",
      "[ 254    3    1  334    3 3679 2461    5    7    6 2953    1  427   11\n",
      " 1447    2 4896    0    0    0    0    0    0    0    0    0    0    0\n",
      "    0    0    0    0    0    0    0    0    0    0    0    0    0    0\n",
      "    0    0    0    0    0    0    0    0]\n",
      "50\n"
     ]
    }
   ],
   "source": [
    "print(type(train_reviews))\n",
    "print(len(train_reviews))\n",
    "print(train_reviews[6])\n",
    "print(len(train_reviews[6]))"
   ]
  },
  {
   "cell_type": "code",
   "execution_count": 32,
   "metadata": {},
   "outputs": [],
   "source": [
    "from numpy import array\n",
    "from numpy import asarray\n",
    "from numpy import zeros\n",
    "from keras.preprocessing.text import Tokenizer"
   ]
  },
  {
   "cell_type": "code",
   "execution_count": 33,
   "metadata": {},
   "outputs": [
    {
     "name": "stdout",
     "output_type": "stream",
     "text": [
      "Number of words : 264965\n"
     ]
    }
   ],
   "source": [
    "hole_embeddings_dictionary = dict()\n",
    "glove_file = open('/home/pankaj/Desktop/PROJECT/Prebuild/content/wn30_holE_2e.tsv', encoding=\"utf8\")\n",
    "hole_vocab_size=0\n",
    "for line in glove_file:  \n",
    "    hole_vocab_size+=1\n",
    "    records = line.split()   # sandberger 1 2 3 ... 100\n",
    "    word = records[0]        # word = sandberger\n",
    "    vector_dimensions = asarray(records[1:], dtype='float32')      # vector_dimensions = 1 2 ..100\n",
    "    hole_embeddings_dictionary [word] = vector_dimensions               # add to dict word--> Embedding\n",
    "glove_file.close()\n",
    "\n",
    "print(\"Number of words :\",hole_vocab_size)"
   ]
  },
  {
   "cell_type": "code",
   "execution_count": 34,
   "metadata": {},
   "outputs": [],
   "source": [
    "#============== WORD2VEC ===========================\n",
    "import gensim\n",
    "w2v_model = gensim.models.KeyedVectors.load_word2vec_format('/home/pankaj/Desktop/PROJECT/Datasets/GoogleNews-vectors-negative300.bin', binary=True)"
   ]
  },
  {
   "cell_type": "code",
   "execution_count": 35,
   "metadata": {},
   "outputs": [],
   "source": [
    "#w2v_model.wv['and'].shape"
   ]
  },
  {
   "cell_type": "code",
   "execution_count": 37,
   "metadata": {},
   "outputs": [
    {
     "name": "stderr",
     "output_type": "stream",
     "text": [
      "/home/pankaj/anaconda3/lib/python3.7/site-packages/ipykernel_launcher.py:4: DeprecationWarning: Call to deprecated `wv` (Attribute will be removed in 4.0.0, use self instead).\n",
      "  after removing the cwd from sys.path.\n",
      "/home/pankaj/anaconda3/lib/python3.7/site-packages/ipykernel_launcher.py:5: DeprecationWarning: Call to deprecated `wv` (Attribute will be removed in 4.0.0, use self instead).\n",
      "  \"\"\"\n"
     ]
    },
    {
     "name": "stdout",
     "output_type": "stream",
     "text": [
      "NUmber of words in W@V : 3000000\n"
     ]
    }
   ],
   "source": [
    "w2v_embeddings_dictionary = dict()\n",
    "w2v_vocab_size=0\n",
    "\n",
    "for idx, key in enumerate(w2v_model.wv.vocab):\n",
    "    w2v_embeddings_dictionary[key] = w2v_model.wv[key]\n",
    "    w2v_vocab_size+=1\n",
    "\n",
    "print(\"NUmber of words in W@V :\", w2v_vocab_size)"
   ]
  },
  {
   "cell_type": "code",
   "execution_count": 38,
   "metadata": {},
   "outputs": [],
   "source": [
    "#embeddings_dictionary.get('snowcapped_Caucasus')"
   ]
  },
  {
   "cell_type": "code",
   "execution_count": 39,
   "metadata": {},
   "outputs": [],
   "source": [
    "embedding_matrix = zeros((vocab_size, 450))\n",
    "w2v_absent=0\n",
    "hole_absent=0\n",
    "for word, index in tokenizer.word_index.items():\n",
    "   # print(word)\n",
    "    w2v_embedding_vector = w2v_embeddings_dictionary.get(word)\n",
    "    hole_embedding_vector = hole_embeddings_dictionary.get(word)\n",
    "    #if embedding_vector is not None:\n",
    "     #   embedding_matrix[index] = embedding_vector\n",
    "    \n",
    "    if w2v_embedding_vector is  None:\n",
    "        w2v_absent+=1\n",
    "        #print(word)\n",
    "        w2v_embedding_vector= np.random.uniform(0,1,300)\n",
    "    if hole_embedding_vector is  None:\n",
    "        hole_absent+=1\n",
    "        hole_embedding_vector=np.random.uniform(0,1,150)\n",
    "    \n",
    "    embedding_matrix[index]= np.append(w2v_embedding_vector, hole_embedding_vector)"
   ]
  },
  {
   "cell_type": "code",
   "execution_count": 40,
   "metadata": {},
   "outputs": [],
   "source": [
    "#print(records)"
   ]
  },
  {
   "cell_type": "code",
   "execution_count": 41,
   "metadata": {},
   "outputs": [
    {
     "data": {
      "text/plain": [
       "array([[ 0.09619141, -0.02868652, -0.10839844, ..., -0.03790731,\n",
       "         0.0150351 ,  0.08684701],\n",
       "       [ 0.26953125,  0.0859375 ,  0.09423828, ...,  0.69689333,\n",
       "         0.70179192,  0.96979282],\n",
       "       [-0.07177734, -0.11035156,  0.00823975, ..., -0.01794351,\n",
       "        -0.02599344, -0.08988973],\n",
       "       ...,\n",
       "       [ 0.36914062, -0.19238281,  0.10791016, ...,  0.08791675,\n",
       "        -0.13086267, -0.10328002],\n",
       "       [-0.03442383,  0.04174805,  0.24902344, ...,  0.77642061,\n",
       "         0.83756501,  0.95123246],\n",
       "       [-0.19433594, -0.06152344,  0.00915527, ..., -0.10659689,\n",
       "        -0.05998106, -0.01441453]])"
      ]
     },
     "execution_count": 41,
     "metadata": {},
     "output_type": "execute_result"
    }
   ],
   "source": [
    "embedding_matrix[100:120][1:10]"
   ]
  },
  {
   "cell_type": "code",
   "execution_count": 44,
   "metadata": {
    "scrolled": false
   },
   "outputs": [],
   "source": [
    "#====== SIMPLE NEURAL NETWORK===================\n",
    "model = Sequential()\n",
    "embedding_layer = Embedding(vocab_size, 450, weights=[embedding_matrix], input_length=maxlen , trainable=False)\n",
    "model.add(embedding_layer)\n",
    "\n",
    "model.add(Flatten())\n",
    "model.add(Dense(2, activation='softmax'))"
   ]
  },
  {
   "cell_type": "code",
   "execution_count": 149,
   "metadata": {},
   "outputs": [],
   "source": [
    "#======== CNN =================================\n",
    "model = Sequential()\n",
    "embedding_layer = Embedding(vocab_size, 450, weights=[embedding_matrix], input_length=maxlen , trainable=False)\n",
    "model.add(embedding_layer)\n",
    "\n",
    "model.add(Conv1D(128, 5, activation='relu'))\n",
    "model.add(GlobalMaxPooling1D())\n",
    "\n",
    "model.add(Dense(5, activation='sigmoid'))"
   ]
  },
  {
   "cell_type": "code",
   "execution_count": null,
   "metadata": {},
   "outputs": [],
   "source": [
    "#============== LSTM =================================\n",
    "model = Sequential()\n",
    "embedding_layer = Embedding(vocab_size, 450, weights=[embedding_matrix], input_length=maxlen , trainable=False)\n",
    "model.add(embedding_layer)\n",
    "\n",
    "model.add(LSTM(128))\n",
    "\n",
    "model.add(Dense(5, activation='sigmoid'))"
   ]
  },
  {
   "cell_type": "code",
   "execution_count": null,
   "metadata": {},
   "outputs": [],
   "source": [
    "#============== Bi-LSTM =================================\n",
    "\n",
    "model = Sequential()\n",
    "embedding_layer = Embedding(vocab_size, 450, weights=[embedding_matrix], input_length=maxlen , trainable=False)\n",
    "model.add(embedding_layer)\n",
    "model.add(Bidirectional(LSTM(128)))\n",
    "#model.add(Bidirectional(LSTM(20, return_sequences=True), input_shape=(100, 1)))\n",
    "#model.add(Bidirectional(LSTM(lstm_out = 128, dropout_U = 0.2, dropout_W = 0.2)))\n",
    "model.add(Dropout(0.5))\n",
    "model.add(Dense(1, activation='sigmoid')) "
   ]
  },
  {
   "cell_type": "code",
   "execution_count": null,
   "metadata": {},
   "outputs": [],
   "source": [
    "#==== LSTM WITH MULTIPLE LSTM-LAYERS ======\n",
    "num_classes=1\n",
    "model=Sequential()\n",
    "#model.add(Embedding(len(list(unique_words)),300,input_length=len_max))\n",
    "embedding_layer = Embedding(vocab_size, 450, weights=[embedding_matrix], input_length=maxlen , trainable=False)\n",
    "model.add(embedding_layer)\n",
    "model.add(LSTM(128,dropout=0.5, recurrent_dropout=0.5,return_sequences=True))\n",
    "model.add(LSTM(64,dropout=0.5, recurrent_dropout=0.5,return_sequences=False))\n",
    "model.add(Dense(100,activation='relu')) \n",
    "model.add(Dropout(0.5))\n",
    "model.add(Dense(num_classes,activation='sigmoid'))"
   ]
  },
  {
   "cell_type": "code",
   "execution_count": 343,
   "metadata": {},
   "outputs": [],
   "source": [
    "# ============== CNN-LSTM HYBRID APPROACH  ===============\n",
    "model = Sequential()\n",
    "embedding_layer = Embedding(vocab_size,450,weights=[embedding_matrix], input_length=maxlen , trainable=False)\n",
    "model.add(embedding_layer)\n",
    "\n",
    "model.add(Conv1D(128,5, activation='relu'))\n",
    "model.add(MaxPooling1D(pool_size=2))\n",
    "model.add(Dropout(.7))\n",
    "\n",
    "\n",
    "model.add(LSTM(128))\n",
    "model.add(Dropout(.7))\n",
    "\n",
    "model.add(Dense(5,activation='softmax'))"
   ]
  },
  {
   "cell_type": "code",
   "execution_count": 56,
   "metadata": {},
   "outputs": [],
   "source": [
    "#from keras.utils import to_categorical\n",
    "#train_label = to_categorical(train_label)\n",
    "#train_label.shape\n",
    "...\n",
    "# encode class values as integers\n",
    "from keras.utils import np_utils\n",
    "encoder = LabelEncoder()\n",
    "encoder.fit(train_label)\n",
    "en_train_label = encoder.transform(train_label)\n",
    "# convert integers to dummy variables (i.e. one hot encoded)\n",
    "dummy_train_label = np_utils.to_categorical(en_train_label)\n",
    "\n",
    "encoder.fit(test_label)\n",
    "en_test_label=encoder.transform(test_label)\n",
    "dummy_test_label=np_utils.to_categorical(en_test_label)\n",
    "\n",
    "encoder.fit(dev_label)\n",
    "en_dev_label=encoder.transform(dev_label)\n",
    "dummy_dev_label=np_utils.to_categorical(en_dev_label)\n"
   ]
  },
  {
   "cell_type": "code",
   "execution_count": 47,
   "metadata": {},
   "outputs": [],
   "source": [
    "learning_rate=0.3\n",
    "adam=optimizers.Adam(lr=learning_rate, beta_1=0.9, beta_2=0.999, amsgrad=False)\n",
    "#sgd = optimizers.SGD(learning_rate, decay=1e-6, momentum=0.9, nesterov=True)"
   ]
  },
  {
   "cell_type": "code",
   "execution_count": 48,
   "metadata": {},
   "outputs": [
    {
     "name": "stdout",
     "output_type": "stream",
     "text": [
      "WARNING:tensorflow:From /home/pankaj/anaconda3/lib/python3.7/site-packages/keras/optimizers.py:790: The name tf.train.Optimizer is deprecated. Please use tf.compat.v1.train.Optimizer instead.\n",
      "\n",
      "WARNING:tensorflow:From /home/pankaj/anaconda3/lib/python3.7/site-packages/tensorflow/python/ops/nn_impl.py:180: add_dispatch_support.<locals>.wrapper (from tensorflow.python.ops.array_ops) is deprecated and will be removed in a future version.\n",
      "Instructions for updating:\n",
      "Use tf.where in 2.0, which has the same broadcast rule as np.where\n",
      "_________________________________________________________________\n",
      "Layer (type)                 Output Shape              Param #   \n",
      "=================================================================\n",
      "embedding_3 (Embedding)      (None, 50, 450)           6153750   \n",
      "_________________________________________________________________\n",
      "flatten_1 (Flatten)          (None, 22500)             0         \n",
      "_________________________________________________________________\n",
      "dense_1 (Dense)              (None, 2)                 45002     \n",
      "=================================================================\n",
      "Total params: 6,198,752\n",
      "Trainable params: 45,002\n",
      "Non-trainable params: 6,153,750\n",
      "_________________________________________________________________\n",
      "None\n"
     ]
    }
   ],
   "source": [
    "model.compile(optimizer='adam', loss='binary_crossentropy', metrics=['acc'])\n",
    "\n",
    "print(model.summary())"
   ]
  },
  {
   "cell_type": "code",
   "execution_count": null,
   "metadata": {},
   "outputs": [],
   "source": [
    "es = EarlyStopping(monitor='val_loss', mode='min', verbose=1, patience=50)"
   ]
  },
  {
   "cell_type": "code",
   "execution_count": 49,
   "metadata": {},
   "outputs": [
    {
     "ename": "NameError",
     "evalue": "name 'dummy_train_label' is not defined",
     "output_type": "error",
     "traceback": [
      "\u001b[0;31m---------------------------------------------------------------------------\u001b[0m",
      "\u001b[0;31mNameError\u001b[0m                                 Traceback (most recent call last)",
      "\u001b[0;32m<ipython-input-49-fe1bb0df6a0b>\u001b[0m in \u001b[0;36m<module>\u001b[0;34m()\u001b[0m\n\u001b[0;32m----> 1\u001b[0;31m \u001b[0mhistory\u001b[0m \u001b[0;34m=\u001b[0m \u001b[0mmodel\u001b[0m\u001b[0;34m.\u001b[0m\u001b[0mfit\u001b[0m\u001b[0;34m(\u001b[0m\u001b[0mtrain_reviews\u001b[0m\u001b[0;34m,\u001b[0m \u001b[0mdummy_train_label\u001b[0m\u001b[0;34m,\u001b[0m \u001b[0mbatch_size\u001b[0m\u001b[0;34m=\u001b[0m\u001b[0;36m128\u001b[0m\u001b[0;34m,\u001b[0m \u001b[0mvalidation_data\u001b[0m\u001b[0;34m=\u001b[0m\u001b[0;34m(\u001b[0m\u001b[0mdev_reviews\u001b[0m\u001b[0;34m,\u001b[0m\u001b[0mdummy_dev_label\u001b[0m\u001b[0;34m)\u001b[0m\u001b[0;34m,\u001b[0m \u001b[0mepochs\u001b[0m\u001b[0;34m=\u001b[0m\u001b[0;36m2000\u001b[0m\u001b[0;34m,\u001b[0m \u001b[0mverbose\u001b[0m\u001b[0;34m=\u001b[0m\u001b[0;36m1\u001b[0m\u001b[0;34m,\u001b[0m \u001b[0mcallbacks\u001b[0m\u001b[0;34m=\u001b[0m\u001b[0;34m[\u001b[0m\u001b[0mes\u001b[0m\u001b[0;34m]\u001b[0m\u001b[0;34m)\u001b[0m\u001b[0;34m\u001b[0m\u001b[0;34m\u001b[0m\u001b[0m\n\u001b[0m",
      "\u001b[0;31mNameError\u001b[0m: name 'dummy_train_label' is not defined"
     ]
    }
   ],
   "source": [
    "history = model.fit(train_reviews, dummy_train_label, batch_size=128, validation_data=(dev_reviews,dummy_dev_label), epochs=2000, verbose=1, callbacks=[es])"
   ]
  },
  {
   "cell_type": "code",
   "execution_count": 59,
   "metadata": {},
   "outputs": [
    {
     "name": "stdout",
     "output_type": "stream",
     "text": [
      "1821/1821 [==============================] - 0s 42us/step\n"
     ]
    }
   ],
   "source": [
    "score = model.evaluate(test_reviews, dummy_test_label, verbose=1)"
   ]
  },
  {
   "cell_type": "code",
   "execution_count": 60,
   "metadata": {},
   "outputs": [
    {
     "name": "stdout",
     "output_type": "stream",
     "text": [
      "Test Score: 0.5255148267431746\n",
      "Test Accuracy: 0.7419000547512228\n",
      "[0.6668730303042196, 0.5813506161201896, 0.5266640984943147, 0.48689491497298887, 0.46300599823108296, 0.43761816493348576, 0.42335759311742177, 0.40538941587326843, 0.3893830984314053, 0.3750612305595696, 0.36513273939920987, 0.35426883897340367, 0.34468248066185525, 0.33654980914441146, 0.33150700930226057, 0.31773746682040266, 0.31496655651599686, 0.30689148482559736, 0.3034152742755206, 0.29245122264575407]\n"
     ]
    }
   ],
   "source": [
    "print(\"Test Score:\", score[0])\n",
    "print(\"Test Accuracy:\", score[1])\n",
    "print(history.history[\"loss\"])\n",
    "\n",
    "#print(history.history[\"val_acc\"])"
   ]
  },
  {
   "cell_type": "code",
   "execution_count": 63,
   "metadata": {},
   "outputs": [
    {
     "data": {
      "image/png": "[encoded data removed]",
      "text/plain": [
       "<Figure size 432x288 with 1 Axes>"
      ]
     },
     "metadata": {
      "needs_background": "light"
     },
     "output_type": "display_data"
    },
    {
     "data": {
      "image/png": "[encoded data removed]",
      "text/plain": [
       "<Figure size 432x288 with 1 Axes>"
      ]
     },
     "metadata": {
      "needs_background": "light"
     },
     "output_type": "display_data"
    }
   ],
   "source": [
    "from matplotlib import pyplot as plt\n",
    "plt.plot(history.history['acc'])\n",
    "plt.plot(history.history['val_acc'])\n",
    "plt.title('model accuracy')\n",
    "plt.ylabel('accuracy')\n",
    "plt.xlabel('epoch')\n",
    "plt.legend(['train','test'], loc='upper left')\n",
    "plt.show()\n",
    "\n",
    "plt.plot(history.history['loss'])\n",
    "plt.plot(history.history['val_loss'])\n",
    "\n",
    "plt.title('model loss')\n",
    "plt.ylabel('loss')\n",
    "plt.xlabel('epoch')\n",
    "plt.legend(['train','test'], loc='upper left')\n",
    "plt.show()\n",
    "# plt.savefig('books_read.png')"
   ]
  },
  {
   "cell_type": "code",
   "execution_count": 62,
   "metadata": {},
   "outputs": [
    {
     "name": "stdout",
     "output_type": "stream",
     "text": [
      "For devotees of French cinema , Safe Conduct is so rich with period minutiae it 's like dying and going to celluloid heaven .\n"
     ]
    }
   ],
   "source": [
    "# ==== PREDICT POLARITY OF SINGLE REVIEW ====\n",
    "#instance= \"The movie was awesome\"\n",
    "instance=train['text'][57]\n",
    "print(instance)\n",
    "instance = tokenizer.texts_to_sequences(instance)\n",
    "\n",
    "flat_list = []\n",
    "for sublist in instance:\n",
    "    for item in sublist:\n",
    "        flat_list.append(item)\n",
    "\n",
    "flat_list = [flat_list]\n",
    "\n",
    "instance = pad_sequences(flat_list, padding='post', maxlen=maxlen)\n",
    "\n"
   ]
  },
  {
   "cell_type": "code",
   "execution_count": 395,
   "metadata": {},
   "outputs": [
    {
     "data": {
      "text/plain": [
       "array([[0.590722  , 0.18129537, 0.04865884, 0.03547024, 0.14385352]],\n",
       "      dtype=float32)"
      ]
     },
     "execution_count": 395,
     "metadata": {},
     "output_type": "execute_result"
    }
   ],
   "source": [
    "model.predict(instance)"
   ]
  }
 ],
 "metadata": {
  "kernelspec": {
   "display_name": "Python 3",
   "language": "python",
   "name": "python3"
  },
  "language_info": {
   "codemirror_mode": {
    "name": "ipython",
    "version": 3
   },
   "file_extension": ".py",
   "mimetype": "text/x-python",
   "name": "python",
   "nbconvert_exporter": "python",
   "pygments_lexer": "ipython3",
   "version": "3.7.3"
  }
 },
 "nbformat": 4,
 "nbformat_minor": 2
}
